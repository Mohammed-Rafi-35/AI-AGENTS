{
  "cells": [
    {
      "cell_type": "code",
      "execution_count": null,
      "metadata": {
        "colab": {
          "base_uri": "https://localhost:8080/"
        },
        "id": "fy0YoUUY4QKP",
        "outputId": "b4078eac-e012-4605-851c-5222b0f8fd9b"
      },
      "outputs": [
        {
          "name": "stdout",
          "output_type": "stream",
          "text": [
            "Requirement already satisfied: openai in /usr/local/lib/python3.11/dist-packages (1.94.0)\n",
            "Requirement already satisfied: anyio<5,>=3.5.0 in /usr/local/lib/python3.11/dist-packages (from openai) (4.9.0)\n",
            "Requirement already satisfied: distro<2,>=1.7.0 in /usr/local/lib/python3.11/dist-packages (from openai) (1.9.0)\n",
            "Requirement already satisfied: httpx<1,>=0.23.0 in /usr/local/lib/python3.11/dist-packages (from openai) (0.28.1)\n",
            "Requirement already satisfied: jiter<1,>=0.4.0 in /usr/local/lib/python3.11/dist-packages (from openai) (0.10.0)\n",
            "Requirement already satisfied: pydantic<3,>=1.9.0 in /usr/local/lib/python3.11/dist-packages (from openai) (2.11.7)\n",
            "Requirement already satisfied: sniffio in /usr/local/lib/python3.11/dist-packages (from openai) (1.3.1)\n",
            "Requirement already satisfied: tqdm>4 in /usr/local/lib/python3.11/dist-packages (from openai) (4.67.1)\n",
            "Requirement already satisfied: typing-extensions<5,>=4.11 in /usr/local/lib/python3.11/dist-packages (from openai) (4.14.1)\n",
            "Requirement already satisfied: idna>=2.8 in /usr/local/lib/python3.11/dist-packages (from anyio<5,>=3.5.0->openai) (3.10)\n",
            "Requirement already satisfied: certifi in /usr/local/lib/python3.11/dist-packages (from httpx<1,>=0.23.0->openai) (2025.7.9)\n",
            "Requirement already satisfied: httpcore==1.* in /usr/local/lib/python3.11/dist-packages (from httpx<1,>=0.23.0->openai) (1.0.9)\n",
            "Requirement already satisfied: h11>=0.16 in /usr/local/lib/python3.11/dist-packages (from httpcore==1.*->httpx<1,>=0.23.0->openai) (0.16.0)\n",
            "Requirement already satisfied: annotated-types>=0.6.0 in /usr/local/lib/python3.11/dist-packages (from pydantic<3,>=1.9.0->openai) (0.7.0)\n",
            "Requirement already satisfied: pydantic-core==2.33.2 in /usr/local/lib/python3.11/dist-packages (from pydantic<3,>=1.9.0->openai) (2.33.2)\n",
            "Requirement already satisfied: typing-inspection>=0.4.0 in /usr/local/lib/python3.11/dist-packages (from pydantic<3,>=1.9.0->openai) (0.4.1)\n"
          ]
        }
      ],
      "source": [
        "pip install openai"
      ]
    },
    {
      "cell_type": "code",
      "execution_count": null,
      "metadata": {
        "colab": {
          "base_uri": "https://localhost:8080/"
        },
        "id": "rQP4szRE4SL2",
        "outputId": "bcb5d708-8faf-4fa3-edc4-ca1342f618cf"
      },
      "outputs": [
        {
          "name": "stdout",
          "output_type": "stream",
          "text": [
            "Enter the coding task: sum of 2 numbers\n",
            "\n",
            "🧠 Attempt 1\n",
            "\n",
            "📝 Generated Code:\n",
            "\n",
            "def sum_of_numbers(a, b):\n",
            "    return a + b\n",
            "\n",
            "✅ Success: Code ran successfully!\n"
          ]
        }
      ],
      "source": [
        "!pip install -q openai\n",
        "\n",
        "import traceback\n",
        "import re\n",
        "from openai import OpenAI\n",
        "import os\n",
        "\n",
        "GROQ_API_KEY = os.environ.get(\"GROQ_API_KEY\")\n",
        "\n",
        "# Replace with your Groq API key\n",
        "client = OpenAI(\n",
        "    api_key=GROQ_API_KEY,\n",
        "    base_url=\"https://api.groq.com/openai/v1\"\n",
        ")\n",
        "\n",
        "def clean_code_block(code):\n",
        "    if \"```\" in code:\n",
        "        match = re.search(r\"```(?:python)?\\s*([\\s\\S]+?)```\", code)\n",
        "        if match:\n",
        "            return match.group(1).strip()\n",
        "    return code.strip()\n",
        "\n",
        "def generate_code(task, history=\"\"):\n",
        "    prompt = f\"\"\"\n",
        "You are a Python coding assistant.\n",
        "Write a complete and runnable Python function or script for the following task.\n",
        "\n",
        "TASK:\n",
        "{task}\n",
        "\n",
        "PREVIOUS ATTEMPT (if any):\n",
        "{history}\n",
        "\n",
        "Only return the Python code inside a single Python code block. Do not include explanations.\n",
        "\"\"\"\n",
        "    response = client.chat.completions.create(\n",
        "        model=\"llama3-8b-8192\",\n",
        "        messages=[\n",
        "            {\"role\": \"system\", \"content\": \"You are a helpful Python coding agent.\"},\n",
        "            {\"role\": \"user\", \"content\": prompt}\n",
        "        ]\n",
        "    )\n",
        "    code_raw = response.choices[0].message.content\n",
        "    return clean_code_block(code_raw)\n",
        "\n",
        "def run_code(code):\n",
        "    try:\n",
        "        local_vars = {}\n",
        "        exec(code, {}, local_vars)\n",
        "        return \"Code ran successfully!\", None\n",
        "    except Exception:\n",
        "        return None, traceback.format_exc()\n",
        "\n",
        "def self_improving_agent():\n",
        "    task = input(\"Enter the coding task: \")\n",
        "    max_attempts = 5\n",
        "    attempt = 0\n",
        "    history = \"\"\n",
        "\n",
        "    while attempt < max_attempts:\n",
        "        print(f\"\\n🧠 Attempt {attempt + 1}\")\n",
        "        code = generate_code(task, history)\n",
        "        print(\"\\n📝 Generated Code:\\n\")\n",
        "        print(code)\n",
        "\n",
        "        result, error = run_code(code)\n",
        "        if result:\n",
        "            print(\"\\n✅ Success:\", result)\n",
        "            break\n",
        "        else:\n",
        "            print(\"\\n❌ Error:\\n\", error)\n",
        "            history = f\"The following code failed:\\n{code}\\nWith error:\\n{error}\"\n",
        "            attempt += 1\n",
        "    else:\n",
        "        print(\"\\n❗ Max attempts reached. Agent couldn't fix the issue.\")\n",
        "\n",
        "# 🔁 Run the agent\n",
        "self_improving_agent()\n"
      ]
    },
    {
      "cell_type": "code",
      "execution_count": null,
      "metadata": {
        "id": "VYms1C8FTkt2"
      },
      "outputs": [],
      "source": []
    }
  ],
  "metadata": {
    "colab": {
      "provenance": []
    },
    "kernelspec": {
      "display_name": "Python 3",
      "name": "python3"
    },
    "language_info": {
      "name": "python"
    }
  },
  "nbformat": 4,
  "nbformat_minor": 0
}
